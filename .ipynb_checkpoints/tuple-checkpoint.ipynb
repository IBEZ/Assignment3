{
 "cells": [
  {
   "cell_type": "markdown",
   "metadata": {},
   "source": [
    "# Tuple\n",
    "#is a colection which is ordered and unchangable also allow for duplicate values. "
   ]
  },
  {
   "cell_type": "code",
   "execution_count": 5,
   "metadata": {},
   "outputs": [
    {
     "name": "stdout",
     "output_type": "stream",
     "text": [
      "Number of Alphabets: 3\n"
     ]
    }
   ],
   "source": [
    "#count\n",
    "alphabets = (\"a\",\"b\",\"c\",\"d\",\"a\",\"e\",\"f\",\"a\")\n",
    "x = alphabets.count(\"a\")\n",
    "print(\"Number of Alphabets:\",x)"
   ]
  },
  {
   "cell_type": "code",
   "execution_count": 29,
   "metadata": {},
   "outputs": [
    {
     "name": "stdout",
     "output_type": "stream",
     "text": [
      "Mazda\n",
      "(2, 3)\n"
     ]
    }
   ],
   "source": [
    "#index\n",
    "#value for search\n",
    "#Cars = (\"Mazda\",\"Alto\",\"Cayenne\")\n",
    "cars = ('Mazda', 'Alto', \"Corolla\", \"Mazda\")\n",
    "numbers = (1, 2, 3, 4 )\n",
    "print(cars[0])\n",
    "print(numbers[1:3])"
   ]
  },
  {
   "cell_type": "code",
   "execution_count": 30,
   "metadata": {},
   "outputs": [
    {
     "name": "stdout",
     "output_type": "stream",
     "text": [
      "('Mazda', 'Alto', 'Corolla', 1, 2, 3)\n"
     ]
    }
   ],
   "source": [
    "#update\n",
    "cars = ('Mazda', 'Alto', \"Corolla\")\n",
    "numbers = (1, 2, 3)\n",
    "x = cars + numbers\n",
    "print(x)"
   ]
  },
  {
   "cell_type": "code",
   "execution_count": 34,
   "metadata": {},
   "outputs": [
    {
     "name": "stdout",
     "output_type": "stream",
     "text": [
      "3\n"
     ]
    }
   ],
   "source": [
    "#len\n",
    "cars = ('Mazda', 'Alto', \"Corolla\")\n",
    "print(len(cars))"
   ]
  },
  {
   "cell_type": "code",
   "execution_count": 37,
   "metadata": {},
   "outputs": [
    {
     "name": "stdout",
     "output_type": "stream",
     "text": [
      "Suzuki\n",
      "97\n"
     ]
    }
   ],
   "source": [
    "#max \n",
    "a = ('Mazda', 'Alto', \"Suzuki\")\n",
    "print(max(a))\n",
    "number = (1,55,96,97)\n",
    "print(max(number))"
   ]
  },
  {
   "cell_type": "code",
   "execution_count": 38,
   "metadata": {},
   "outputs": [
    {
     "name": "stdout",
     "output_type": "stream",
     "text": [
      "Alto\n",
      "1\n"
     ]
    }
   ],
   "source": [
    "#min\n",
    "#max \n",
    "a = ('Mazda', 'Alto', \"Suzuki\")\n",
    "print(min(a))\n",
    "number = (1,55,96,97)\n",
    "print(min(number))"
   ]
  },
  {
   "cell_type": "code",
   "execution_count": 40,
   "metadata": {},
   "outputs": [
    {
     "name": "stdout",
     "output_type": "stream",
     "text": [
      "('a', 'b', 'c')\n",
      "('first', 'second', 'third')\n"
     ]
    }
   ],
   "source": [
    "#tuples\n",
    "a = [\"a\",\"b\",\"c\"]\n",
    "x = tuple(a)\n",
    "print(x)\n",
    "b = {\n",
    "    \"first\":1,\n",
    "    \"second\":2,\n",
    "    \"third\":3\n",
    "}\n",
    "y = tuple(b)\n",
    "print(y)"
   ]
  },
  {
   "cell_type": "code",
   "execution_count": 41,
   "metadata": {},
   "outputs": [
    {
     "name": "stdout",
     "output_type": "stream",
     "text": [
      "('a', 'b', 'c', 1, 2, 3)\n"
     ]
    }
   ],
   "source": [
    "#Concatenating \n",
    "a = (\"a\",\"b\",\"c\")\n",
    "b = (1,2,3)\n",
    "print(a+b)"
   ]
  },
  {
   "cell_type": "code",
   "execution_count": 44,
   "metadata": {},
   "outputs": [
    {
     "name": "stdout",
     "output_type": "stream",
     "text": [
      "(1,)\n",
      "(3, 4, 5)\n",
      "(1, 2, 3, 4)\n",
      "(1, 2)\n"
     ]
    }
   ],
   "source": [
    "#slicing \n",
    "number  = (1,2,3,4,5)\n",
    "print(number[:1])\n",
    "print(number[2:5])\n",
    "print(number[:-1])\n",
    "print(number[:2])"
   ]
  }
 ],
 "metadata": {
  "kernelspec": {
   "display_name": "Python 3",
   "language": "python",
   "name": "python3"
  },
  "language_info": {
   "codemirror_mode": {
    "name": "ipython",
    "version": 3
   },
   "file_extension": ".py",
   "mimetype": "text/x-python",
   "name": "python",
   "nbconvert_exporter": "python",
   "pygments_lexer": "ipython3",
   "version": "3.7.3"
  }
 },
 "nbformat": 4,
 "nbformat_minor": 2
}
